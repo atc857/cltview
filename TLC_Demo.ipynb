{
  "nbformat": 4,
  "nbformat_minor": 0,
  "metadata": {
    "colab": {
      "provenance": [],
      "toc_visible": true,
      "authorship_tag": "ABX9TyN8PgL1SU9foQG3pnwO4kIQ",
      "include_colab_link": true
    },
    "kernelspec": {
      "name": "python3",
      "display_name": "Python 3"
    },
    "language_info": {
      "name": "python"
    }
  },
  "cells": [
    {
      "cell_type": "markdown",
      "metadata": {
        "id": "view-in-github",
        "colab_type": "text"
      },
      "source": [
        "<a href=\"https://colab.research.google.com/github/atc857/cltview/blob/main/TLC_Demo.ipynb\" target=\"_parent\"><img src=\"https://colab.research.google.com/assets/colab-badge.svg\" alt=\"Open In Colab\"/></a>"
      ]
    },
    {
      "cell_type": "markdown",
      "source": [
        "# Teorema Central do Limite \n",
        "\n",
        "Visualização do Teorema Central do Limite a partir de diferentes distribuições.\n",
        "\n",
        "Por André Telles Campos"
      ],
      "metadata": {
        "id": "ax6qAsnOz0wa"
      }
    },
    {
      "cell_type": "code",
      "source": [
        "import numpy as np\n",
        "import matplotlib.pyplot as plt"
      ],
      "metadata": {
        "id": "KqjUJbTTxZBA"
      },
      "execution_count": 13,
      "outputs": []
    },
    {
      "cell_type": "code",
      "source": [
        "# Definição de parâmetros\n",
        "N = 1000 # Número de elementos na distribuição (tamanho da população)\n",
        "n= 30 # número de elementos em cada amostra (tamanho da amostra)"
      ],
      "metadata": {
        "id": "1PrUNwpQgd91"
      },
      "execution_count": 38,
      "outputs": []
    },
    {
      "cell_type": "markdown",
      "source": [
        "# Distribuição binomial"
      ],
      "metadata": {
        "id": "Umo6q3BuxAKs"
      }
    },
    {
      "cell_type": "code",
      "source": [
        "# Distribuição binomial\n",
        "\n",
        "dist = np.random.binomial(10,0.5,N) # gera uma distribuição binomial com n=10 e p=0.5 em N observações.\n",
        "mu = np.mean(dist)\n",
        "sigma = np.std(dist)\n",
        "print('Média: ',mu)\n",
        "print('Desvio-padrão: ',sigma)\n",
        "# Histograma\n",
        "plt.hist(dist, bins=20, density=True, ec='black')\n",
        "plt.show()"
      ],
      "metadata": {
        "id": "fE3VvZk_xAKt",
        "colab": {
          "base_uri": "https://localhost:8080/",
          "height": 304
        },
        "outputId": "e3632a53-a5b2-46d4-ae9b-fa1b55f0bed4"
      },
      "execution_count": 39,
      "outputs": [
        {
          "output_type": "stream",
          "name": "stdout",
          "text": [
            "Média:  5.049\n",
            "Desvio-padrão:  1.5926703990468336\n"
          ]
        },
        {
          "output_type": "display_data",
          "data": {
            "text/plain": [
              "<Figure size 432x288 with 1 Axes>"
            ],
            "image/png": "[encoded data removed]"
          },
          "metadata": {
            "needs_background": "light"
          }
        }
      ]
    },
    {
      "cell_type": "code",
      "source": [
        "nSamp=np.asarray([5,30,50,100,1000,10000]) # número de amostragens\n",
        "\n",
        "y=[] # cria uma lista vazia para receber os valores das médias\n",
        "\n",
        "fig, fig_axes = plt.subplots(ncols=3, nrows=2, constrained_layout=True)\n",
        "\n",
        "for i,nSamp in enumerate(nSamp):\n",
        "  y = np.mean(np.random.choice(dist,(nSamp,n)),axis=1) # retira nSamp amostras, com n elementos cada, da distribuição e calcula a média de cada amostra\n",
        "  row = i//3\n",
        "  col=i%3\n",
        "  fig_axes[row,col].hist(y,bins=20,density=True, ec='black')\n",
        "  fig_axes[row,col].set_title('N={}'.format(nSamp))\n",
        "\n",
        "plt.show()"
      ],
      "metadata": {
        "id": "8qNFeYxRxAKt",
        "colab": {
          "base_uri": "https://localhost:8080/",
          "height": 313
        },
        "outputId": "e38e209f-634c-4a3c-ae02-704550e162cc"
      },
      "execution_count": 40,
      "outputs": [
        {
          "output_type": "display_data",
          "data": {
            "text/plain": [
              "<Figure size 432x288 with 6 Axes>"
            ],
            "image/png": "[encoded data removed]"
          },
          "metadata": {
            "needs_background": "light"
          }
        }
      ]
    },
    {
      "cell_type": "markdown",
      "source": [
        "# Distribuição exponencial"
      ],
      "metadata": {
        "id": "zVVKIkr8sO7l"
      }
    },
    {
      "cell_type": "code",
      "source": [
        "# Distribuição exponencial\n",
        "dist = np.random.exponential(5,N) # gera uma distribuição exponencial com parâmetro lambda=5 e N elementos\n",
        "mu = np.mean(dist)\n",
        "sigma = np.std(dist)\n",
        "print('Média: ',mu)\n",
        "print('Desvio-padrão: ',sigma)\n",
        "# Histograma\n",
        "plt.hist(dist, bins=20, density=True, ec='black')\n",
        "plt.show()"
      ],
      "metadata": {
        "id": "rO5Y1NQizv7S",
        "colab": {
          "base_uri": "https://localhost:8080/",
          "height": 300
        },
        "outputId": "73609178-0de4-45bb-ba28-fa6098dd2b52"
      },
      "execution_count": 41,
      "outputs": [
        {
          "output_type": "stream",
          "name": "stdout",
          "text": [
            "Média:  4.995947394377744\n",
            "Desvio-padrão:  4.972475124940302\n"
          ]
        },
        {
          "output_type": "display_data",
          "data": {
            "text/plain": [
              "<Figure size 432x288 with 1 Axes>"
            ],
            "image/png": "[encoded data removed]"
          },
          "metadata": {
            "needs_background": "light"
          }
        }
      ]
    },
    {
      "cell_type": "code",
      "source": [
        "nSamp=np.asarray([5,30,50,100,1000,10000]) # número de amostragens\n",
        "y=[] # cria uma lista vazia para receber os valores das médias\n",
        "\n",
        "fig, fig_axes = plt.subplots(ncols=3, nrows=2, constrained_layout=True)\n",
        "\n",
        "for i,nSamp in enumerate(nSamp):\n",
        "  y = np.mean(np.random.choice(dist,(nSamp,n)),axis=1) # retira nSamp amostras, com n elementos cada, da distribuição e calcula a média de cada amostra\n",
        "  row = i//3\n",
        "  col=i%3\n",
        "  fig_axes[row,col].hist(y,bins=20,density=True, ec='black')\n",
        "  fig_axes[row,col].set_title('N={}'.format(nSamp))\n",
        "\n",
        "plt.show()"
      ],
      "metadata": {
        "id": "Ehdt7XCmUd1F",
        "colab": {
          "base_uri": "https://localhost:8080/",
          "height": 313
        },
        "outputId": "144457bd-314a-4cc0-a0a4-0d7cfe581903"
      },
      "execution_count": 42,
      "outputs": [
        {
          "output_type": "display_data",
          "data": {
            "text/plain": [
              "<Figure size 432x288 with 6 Axes>"
            ],
            "image/png": "[encoded data removed]"
          },
          "metadata": {
            "needs_background": "light"
          }
        }
      ]
    },
    {
      "cell_type": "markdown",
      "source": [
        "# Distribuição uniforme"
      ],
      "metadata": {
        "id": "zQy9q3n1sXDd"
      }
    },
    {
      "cell_type": "code",
      "source": [
        "# Distribuição uniforme\n",
        "dist = np.random.uniform(-3,3,N) # gera uma distribuição uniforme com N elementos entre -3 e 3\n",
        "mu = np.mean(dist)\n",
        "sigma = np.std(dist)\n",
        "print('Média: ',mu)\n",
        "print('Desvio-padrão: ',sigma)\n",
        "# Histograma\n",
        "plt.hist(dist, bins=20, density=True, ec='black')\n",
        "plt.show()"
      ],
      "metadata": {
        "id": "Tgolp2Ni0Yyv",
        "colab": {
          "base_uri": "https://localhost:8080/",
          "height": 300
        },
        "outputId": "3a01f477-be29-4673-d341-d277df41c0b5"
      },
      "execution_count": 43,
      "outputs": [
        {
          "output_type": "stream",
          "name": "stdout",
          "text": [
            "Média:  -0.011282221621718722\n",
            "Desvio-padrão:  1.6833061330981371\n"
          ]
        },
        {
          "output_type": "display_data",
          "data": {
            "text/plain": [
              "<Figure size 432x288 with 1 Axes>"
            ],
            "image/png": "[encoded data removed]"
          },
          "metadata": {
            "needs_background": "light"
          }
        }
      ]
    },
    {
      "cell_type": "code",
      "source": [
        "nSamp=np.asarray([5,30,50,100,1000,10000]) # número de amostragens\n",
        "y=[] # cria uma lista vazia para receber os valores das médias\n",
        "\n",
        "fig, fig_axes = plt.subplots(ncols=3, nrows=2, constrained_layout=True)\n",
        "\n",
        "for i,nSamp in enumerate(nSamp):\n",
        "  y = np.mean(np.random.choice(dist,(nSamp,n)),axis=1) # retira nSamp amostras, com n elementos cada, da distribuição e calcula a média de cada amostra\n",
        "  row = i//3\n",
        "  col=i%3\n",
        "  fig_axes[row,col].hist(y,bins=20,density=True, ec='black')\n",
        "  fig_axes[row,col].set_title('N={}'.format(nSamp))\n",
        "\n",
        "plt.show()"
      ],
      "metadata": {
        "id": "ojFWp7fhpYu2",
        "colab": {
          "base_uri": "https://localhost:8080/",
          "height": 313
        },
        "outputId": "11b24751-c78d-45fd-f187-9014f91d1288"
      },
      "execution_count": 44,
      "outputs": [
        {
          "output_type": "display_data",
          "data": {
            "text/plain": [
              "<Figure size 432x288 with 6 Axes>"
            ],
            "image/png": "[encoded data removed]"
          },
          "metadata": {
            "needs_background": "light"
          }
        }
      ]
    },
    {
      "cell_type": "markdown",
      "source": [
        "# Distribuição de Poisson"
      ],
      "metadata": {
        "id": "ys5zR_rjsasV"
      }
    },
    {
      "cell_type": "code",
      "source": [
        "# Distribuição de Poisson\n",
        "dist = np.random.poisson(2,N) # gera uma distribuição de Poisson com parâmetro lambda=2 e N elementos\n",
        "mu = np.mean(dist)\n",
        "sigma = np.std(dist)\n",
        "print('Média: ',mu)\n",
        "print('Desvio-padrão: ',sigma)\n",
        "# Histograma\n",
        "plt.hist(dist, bins=20, density=True, ec='black')\n",
        "plt.show()"
      ],
      "metadata": {
        "id": "akoXjZAtCz1F",
        "colab": {
          "base_uri": "https://localhost:8080/",
          "height": 300
        },
        "outputId": "57f66d40-73a7-45d8-85b9-07c3386e4e8b"
      },
      "execution_count": 45,
      "outputs": [
        {
          "output_type": "stream",
          "name": "stdout",
          "text": [
            "Média:  1.97\n",
            "Desvio-padrão:  1.4598287570807749\n"
          ]
        },
        {
          "output_type": "display_data",
          "data": {
            "text/plain": [
              "<Figure size 432x288 with 1 Axes>"
            ],
            "image/png": "[encoded data removed]"
          },
          "metadata": {
            "needs_background": "light"
          }
        }
      ]
    },
    {
      "cell_type": "code",
      "source": [
        "nSamp=np.asarray([5,30,50,100,1000,10000]) # número de amostragens\n",
        "y=[] # cria uma lista vazia para receber os valores das médias\n",
        "\n",
        "fig, fig_axes = plt.subplots(ncols=3, nrows=2, constrained_layout=True)\n",
        "\n",
        "for i,nSamp in enumerate(nSamp):\n",
        "  y = np.mean(np.random.choice(dist,(nSamp,n)),axis=1) # retira nSamp amostras, com n elementos cada, da distribuição e calcula a média de cada amostra\n",
        "  row = i//3\n",
        "  col=i%3\n",
        "  fig_axes[row,col].hist(y,bins=20,density=True, ec='black')\n",
        "  fig_axes[row,col].set_title('N={}'.format(nSamp))\n",
        "\n",
        "plt.show()"
      ],
      "metadata": {
        "id": "UxD4Lt8XCzqe",
        "colab": {
          "base_uri": "https://localhost:8080/",
          "height": 313
        },
        "outputId": "3f5a43dc-bbcb-435a-d08d-141cef93f172"
      },
      "execution_count": 46,
      "outputs": [
        {
          "output_type": "display_data",
          "data": {
            "text/plain": [
              "<Figure size 432x288 with 6 Axes>"
            ],
            "image/png": "[encoded data removed]"
          },
          "metadata": {
            "needs_background": "light"
          }
        }
      ]
    },
    {
      "cell_type": "markdown",
      "source": [
        "# Distribuição normal"
      ],
      "metadata": {
        "id": "bqNA3uCGseC9"
      }
    },
    {
      "cell_type": "code",
      "source": [
        "# Distribuição normal\n",
        "dist = np.random.normal(0,1,N) # gera dstribuição normal com média 0 e desvio-padrão 1 com N elementos\n",
        "mu = np.mean(dist)\n",
        "sigma = np.std(dist)\n",
        "print('Média: ',mu)\n",
        "print('Desvio-padrão: ',sigma)\n",
        "# Histograma\n",
        "plt.hist(dist, bins=20, density=True, ec='black')\n",
        "plt.show()"
      ],
      "metadata": {
        "id": "MH4PyTv30ZRK",
        "colab": {
          "base_uri": "https://localhost:8080/",
          "height": 300
        },
        "outputId": "bffd324d-70fc-4b64-b640-cc5598d60b71"
      },
      "execution_count": 47,
      "outputs": [
        {
          "output_type": "stream",
          "name": "stdout",
          "text": [
            "Média:  -0.004739750466845784\n",
            "Desvio-padrão:  0.9926862172511114\n"
          ]
        },
        {
          "output_type": "display_data",
          "data": {
            "text/plain": [
              "<Figure size 432x288 with 1 Axes>"
            ],
            "image/png": "[encoded data removed]"
          },
          "metadata": {
            "needs_background": "light"
          }
        }
      ]
    },
    {
      "cell_type": "code",
      "source": [
        "nSamp=np.asarray([5,30,50,100,1000,10000]) # número de amostragens\n",
        "y=[] # cria uma lista vazia para receber os valores das médias\n",
        "\n",
        "fig, fig_axes = plt.subplots(ncols=3, nrows=2, constrained_layout=True)\n",
        "\n",
        "for i,nSamp in enumerate(nSamp):\n",
        "  y = np.mean(np.random.choice(dist,(nSamp,n)),axis=1) # retira nSamp amostras, com n elementos cada, da distribuição e calcula a média de cada amostra\n",
        "  row = i//3\n",
        "  col=i%3\n",
        "  fig_axes[row,col].hist(y,bins=20,density=True, ec='black')\n",
        "  fig_axes[row,col].set_title('N={}'.format(nSamp))\n",
        "\n",
        "plt.show()"
      ],
      "metadata": {
        "id": "NEqvS0K7EIqt",
        "colab": {
          "base_uri": "https://localhost:8080/",
          "height": 313
        },
        "outputId": "8e5185d7-4be6-4c54-c314-c6b84aeb0218"
      },
      "execution_count": 48,
      "outputs": [
        {
          "output_type": "display_data",
          "data": {
            "text/plain": [
              "<Figure size 432x288 with 6 Axes>"
            ],
            "image/png": "[encoded data removed]"
          },
          "metadata": {
            "needs_background": "light"
          }
        }
      ]
    }
  ]
}