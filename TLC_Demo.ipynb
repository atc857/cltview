{
  "nbformat": 4,
  "nbformat_minor": 0,
  "metadata": {
    "colab": {
      "provenance": [],
      "toc_visible": true,
      "authorship_tag": "ABX9TyNkBXup2n+7/soLByALbxk+",
      "include_colab_link": true
    },
    "kernelspec": {
      "name": "python3",
      "display_name": "Python 3"
    },
    "language_info": {
      "name": "python"
    }
  },
  "cells": [
    {
      "cell_type": "markdown",
      "metadata": {
        "id": "view-in-github",
        "colab_type": "text"
      },
      "source": [
        "<a href=\"https://colab.research.google.com/github/atc857/cltview/blob/main/TLC_Demo.ipynb\" target=\"_parent\"><img src=\"https://colab.research.google.com/assets/colab-badge.svg\" alt=\"Open In Colab\"/></a>"
      ]
    },
    {
      "cell_type": "markdown",
      "source": [
        "# Teorema Central do Limite \n",
        "\n",
        "Visualização do Teorema Central do Limite a partir de diferentes distribuições.\n",
        "\n",
        "Por André Telles Campos"
      ],
      "metadata": {
        "id": "ax6qAsnOz0wa"
      }
    },
    {
      "cell_type": "code",
      "source": [
        "import numpy as np\n",
        "import matplotlib.pyplot as plt"
      ],
      "metadata": {
        "id": "KqjUJbTTxZBA"
      },
      "execution_count": 1,
      "outputs": []
    },
    {
      "cell_type": "markdown",
      "source": [
        "# Distribuição binomial"
      ],
      "metadata": {
        "id": "Umo6q3BuxAKs"
      }
    },
    {
      "cell_type": "code",
      "source": [
        "# Distribuição binomial\n",
        "N = 1000 # Número de elementos na distribuição\n",
        "dist = np.random.binomial(10,0.5,N) # gera uma distribuição binomial com n=10 e p=0.5 em N observações.\n",
        "mu = np.mean(dist)\n",
        "sigma = np.std(dist)\n",
        "print('Média: ',mu)\n",
        "print('Desvio-padrão: ',sigma)\n",
        "# Histograma\n",
        "plt.hist(dist, bins=20, density=True, ec='black')\n",
        "plt.show()"
      ],
      "metadata": {
        "id": "fE3VvZk_xAKt",
        "colab": {
          "base_uri": "https://localhost:8080/",
          "height": 300
        },
        "outputId": "c37623dd-e21e-4861-c4b4-610ad3b3496f"
      },
      "execution_count": 2,
      "outputs": [
        {
          "output_type": "stream",
          "name": "stdout",
          "text": [
            "Média:  5.014\n",
            "Desvio-padrão:  1.5607062503879454\n"
          ]
        },
        {
          "output_type": "display_data",
          "data": {
            "text/plain": [
              "<Figure size 432x288 with 1 Axes>"
            ],
            "image/png": "[encoded data removed]"
          },
          "metadata": {
            "needs_background": "light"
          }
        }
      ]
    },
    {
      "cell_type": "code",
      "source": [
        "nSamp=np.asarray([5,30,50,100,1000,10000]) # número de amostragens\n",
        "n=30 # número de elementos em cada amostra\n",
        "y=[] # cria uma lista vazia para receber os valores das médias\n",
        "\n",
        "fig, fig_axes = plt.subplots(ncols=3, nrows=2, constrained_layout=True)\n",
        "\n",
        "for i,nSamp in enumerate(nSamp):\n",
        "  y = np.mean(np.random.choice(dist,(nSamp,n)),axis=1) # retira nSamp amostras, com n elementos cada, da distribuição e calcula a média de cada amostra\n",
        "  row = i//3\n",
        "  col=i%3\n",
        "  fig_axes[row,col].hist(y,bins=20,density=True, ec='black')\n",
        "  fig_axes[row,col].set_title('N={}'.format(nSamp))\n",
        "\n",
        "plt.show()"
      ],
      "metadata": {
        "id": "8qNFeYxRxAKt",
        "colab": {
          "base_uri": "https://localhost:8080/",
          "height": 313
        },
        "outputId": "3b85c600-2866-48fc-d550-b540ad264b4b"
      },
      "execution_count": 3,
      "outputs": [
        {
          "output_type": "display_data",
          "data": {
            "text/plain": [
              "<Figure size 432x288 with 6 Axes>"
            ],
            "image/png": "[encoded data removed]"
          },
          "metadata": {
            "needs_background": "light"
          }
        }
      ]
    },
    {
      "cell_type": "markdown",
      "source": [
        "# Distribuição exponencial"
      ],
      "metadata": {
        "id": "zVVKIkr8sO7l"
      }
    },
    {
      "cell_type": "code",
      "source": [
        "# Distribuição exponencial\n",
        "N = 1000 # Número de elementos na distribuição\n",
        "dist = np.random.exponential(5,N) # gera uma distribuição exponencial com parâmetro lambda=5 e N elementos\n",
        "mu = np.mean(dist)\n",
        "sigma = np.std(dist)\n",
        "print('Média: ',mu)\n",
        "print('Desvio-padrão: ',sigma)\n",
        "# Histograma\n",
        "plt.hist(dist, bins=20, density=True, ec='black')\n",
        "plt.show()"
      ],
      "metadata": {
        "id": "rO5Y1NQizv7S",
        "colab": {
          "base_uri": "https://localhost:8080/",
          "height": 300
        },
        "outputId": "152e99a3-053f-497c-cd80-da09a9705a05"
      },
      "execution_count": 4,
      "outputs": [
        {
          "output_type": "stream",
          "name": "stdout",
          "text": [
            "Média:  5.2337876882900805\n",
            "Desvio-padrão:  5.032655665262046\n"
          ]
        },
        {
          "output_type": "display_data",
          "data": {
            "text/plain": [
              "<Figure size 432x288 with 1 Axes>"
            ],
            "image/png": "[encoded data removed]"
          },
          "metadata": {
            "needs_background": "light"
          }
        }
      ]
    },
    {
      "cell_type": "code",
      "source": [
        "nSamp=np.asarray([5,30,50,100,1000,10000]) # número de amostragens\n",
        "n=30 # número de elementos em cada amostra\n",
        "y=[] # cria uma lista vazia para receber os valores das médias\n",
        "\n",
        "fig, fig_axes = plt.subplots(ncols=3, nrows=2, constrained_layout=True)\n",
        "\n",
        "for i,nSamp in enumerate(nSamp):\n",
        "  y = np.mean(np.random.choice(dist,(nSamp,n)),axis=1) # retira nSamp amostras, com n elementos cada, da distribuição e calcula a média de cada amostra\n",
        "  row = i//3\n",
        "  col=i%3\n",
        "  fig_axes[row,col].hist(y,bins=20,density=True, ec='black')\n",
        "  fig_axes[row,col].set_title('N={}'.format(nSamp))\n",
        "\n",
        "plt.show()"
      ],
      "metadata": {
        "id": "Ehdt7XCmUd1F",
        "colab": {
          "base_uri": "https://localhost:8080/",
          "height": 313
        },
        "outputId": "141549b6-460c-469b-eba3-778b35a99d61"
      },
      "execution_count": 5,
      "outputs": [
        {
          "output_type": "display_data",
          "data": {
            "text/plain": [
              "<Figure size 432x288 with 6 Axes>"
            ],
            "image/png": "[encoded data removed]"
          },
          "metadata": {
            "needs_background": "light"
          }
        }
      ]
    },
    {
      "cell_type": "markdown",
      "source": [
        "# Distribuição uniforme"
      ],
      "metadata": {
        "id": "zQy9q3n1sXDd"
      }
    },
    {
      "cell_type": "code",
      "source": [
        "# Distribuição uniforme\n",
        "N = 1000 # Número de elementos na distribuição\n",
        "dist = np.random.uniform(-3,3,N) # gera uma distribuição uniforme com N elementos entre -3 e 3\n",
        "mu = np.mean(dist)\n",
        "sigma = np.std(dist)\n",
        "print('Média: ',mu)\n",
        "print('Desvio-padrão: ',sigma)\n",
        "# Histograma\n",
        "plt.hist(dist, bins=20, density=True, ec='black')\n",
        "plt.show()"
      ],
      "metadata": {
        "id": "Tgolp2Ni0Yyv",
        "colab": {
          "base_uri": "https://localhost:8080/",
          "height": 300
        },
        "outputId": "6404648f-6dd4-48bc-ab7d-268507c02ae5"
      },
      "execution_count": 6,
      "outputs": [
        {
          "output_type": "stream",
          "name": "stdout",
          "text": [
            "Média:  0.07394563780267527\n",
            "Desvio-padrão:  1.7434997389377473\n"
          ]
        },
        {
          "output_type": "display_data",
          "data": {
            "text/plain": [
              "<Figure size 432x288 with 1 Axes>"
            ],
            "image/png": "[encoded data removed]"
          },
          "metadata": {
            "needs_background": "light"
          }
        }
      ]
    },
    {
      "cell_type": "code",
      "source": [
        "nSamp=np.asarray([5,30,50,100,1000,10000]) # número de amostragens\n",
        "n=30 # número de elementos em cada amostra\n",
        "y=[] # cria uma lista vazia para receber os valores das médias\n",
        "\n",
        "fig, fig_axes = plt.subplots(ncols=3, nrows=2, constrained_layout=True)\n",
        "\n",
        "for i,nSamp in enumerate(nSamp):\n",
        "  y = np.mean(np.random.choice(dist,(nSamp,n)),axis=1) # retira nSamp amostras, com n elementos cada, da distribuição e calcula a média de cada amostra\n",
        "  row = i//3\n",
        "  col=i%3\n",
        "  fig_axes[row,col].hist(y,bins=20,density=True, ec='black')\n",
        "  fig_axes[row,col].set_title('N={}'.format(nSamp))\n",
        "\n",
        "plt.show()"
      ],
      "metadata": {
        "id": "ojFWp7fhpYu2",
        "colab": {
          "base_uri": "https://localhost:8080/",
          "height": 313
        },
        "outputId": "173eb177-f863-45d9-b2b4-1352773a16c6"
      },
      "execution_count": 7,
      "outputs": [
        {
          "output_type": "display_data",
          "data": {
            "text/plain": [
              "<Figure size 432x288 with 6 Axes>"
            ],
            "image/png": "[encoded data removed]"
          },
          "metadata": {
            "needs_background": "light"
          }
        }
      ]
    },
    {
      "cell_type": "markdown",
      "source": [
        "# Distribuição de Poisson"
      ],
      "metadata": {
        "id": "ys5zR_rjsasV"
      }
    },
    {
      "cell_type": "code",
      "source": [
        "# Distribuição de Poisson\n",
        "N = 1000 # Número de elementos na distribuição\n",
        "dist = np.random.poisson(2,N) # gera uma distribuição de Poisson com parâmetro lambda=2 e N elementos\n",
        "mu = np.mean(dist)\n",
        "sigma = np.std(dist)\n",
        "print('Média: ',mu)\n",
        "print('Desvio-padrão: ',sigma)\n",
        "# Histograma\n",
        "plt.hist(dist, bins=20, density=True, ec='black')\n",
        "plt.show()"
      ],
      "metadata": {
        "id": "akoXjZAtCz1F",
        "colab": {
          "base_uri": "https://localhost:8080/",
          "height": 300
        },
        "outputId": "aac15552-2610-41fc-fe8d-87513a6c2452"
      },
      "execution_count": 8,
      "outputs": [
        {
          "output_type": "stream",
          "name": "stdout",
          "text": [
            "Média:  1.984\n",
            "Desvio-padrão:  1.468245211127896\n"
          ]
        },
        {
          "output_type": "display_data",
          "data": {
            "text/plain": [
              "<Figure size 432x288 with 1 Axes>"
            ],
            "image/png": "[encoded data removed]"
          },
          "metadata": {
            "needs_background": "light"
          }
        }
      ]
    },
    {
      "cell_type": "code",
      "source": [
        "nSamp=np.asarray([5,30,50,100,1000,10000]) # número de amostragens\n",
        "n=30 # número de elementos em cada amostra\n",
        "y=[] # cria uma lista vazia para receber os valores das médias\n",
        "\n",
        "fig, fig_axes = plt.subplots(ncols=3, nrows=2, constrained_layout=True)\n",
        "\n",
        "for i,nSamp in enumerate(nSamp):\n",
        "  y = np.mean(np.random.choice(dist,(nSamp,n)),axis=1) # retira nSamp amostras, com n elementos cada, da distribuição e calcula a média de cada amostra\n",
        "  row = i//3\n",
        "  col=i%3\n",
        "  fig_axes[row,col].hist(y,bins=20,density=True, ec='black')\n",
        "  fig_axes[row,col].set_title('N={}'.format(nSamp))\n",
        "\n",
        "plt.show()"
      ],
      "metadata": {
        "id": "UxD4Lt8XCzqe",
        "colab": {
          "base_uri": "https://localhost:8080/",
          "height": 313
        },
        "outputId": "ca7ed2c5-7794-4f35-a5b2-d3a54abade83"
      },
      "execution_count": 9,
      "outputs": [
        {
          "output_type": "display_data",
          "data": {
            "text/plain": [
              "<Figure size 432x288 with 6 Axes>"
            ],
            "image/png": "[encoded data removed]"
          },
          "metadata": {
            "needs_background": "light"
          }
        }
      ]
    },
    {
      "cell_type": "markdown",
      "source": [
        "# Distribuição normal"
      ],
      "metadata": {
        "id": "bqNA3uCGseC9"
      }
    },
    {
      "cell_type": "code",
      "source": [
        "# Distribuição normal\n",
        "N = 1000 # Número de elementos na distribuição\n",
        "dist = np.random.normal(0,1,N) # gera dstribuição normal com média 0 e desvio-padrão 1 com N elementos\n",
        "mu = np.mean(dist)\n",
        "sigma = np.std(dist)\n",
        "print('Média: ',mu)\n",
        "print('Desvio-padrão: ',sigma)\n",
        "# Histograma\n",
        "plt.hist(dist, bins=20, density=True, ec='black')\n",
        "plt.show()"
      ],
      "metadata": {
        "id": "MH4PyTv30ZRK",
        "colab": {
          "base_uri": "https://localhost:8080/",
          "height": 300
        },
        "outputId": "33080df8-394d-4338-fc58-9afad327f579"
      },
      "execution_count": 10,
      "outputs": [
        {
          "output_type": "stream",
          "name": "stdout",
          "text": [
            "Média:  0.025003535251595353\n",
            "Desvio-padrão:  0.9733609096478557\n"
          ]
        },
        {
          "output_type": "display_data",
          "data": {
            "text/plain": [
              "<Figure size 432x288 with 1 Axes>"
            ],
            "image/png": "[encoded data removed]"
          },
          "metadata": {
            "needs_background": "light"
          }
        }
      ]
    },
    {
      "cell_type": "code",
      "source": [
        "nSamp=np.asarray([5,30,50,100,1000,10000]) # número de amostragens\n",
        "n=30 # número de elementos em cada amostra\n",
        "y=[] # cria uma lista vazia para receber os valores das médias\n",
        "\n",
        "fig, fig_axes = plt.subplots(ncols=3, nrows=2, constrained_layout=True)\n",
        "\n",
        "for i,nSamp in enumerate(nSamp):\n",
        "  y = np.mean(np.random.choice(dist,(nSamp,n)),axis=1) # retira nSamp amostras, com n elementos cada, da distribuição e calcula a média de cada amostra\n",
        "  row = i//3\n",
        "  col=i%3\n",
        "  fig_axes[row,col].hist(y,bins=20,density=True, ec='black')\n",
        "  fig_axes[row,col].set_title('N={}'.format(nSamp))\n",
        "\n",
        "plt.show()"
      ],
      "metadata": {
        "id": "NEqvS0K7EIqt",
        "colab": {
          "base_uri": "https://localhost:8080/",
          "height": 313
        },
        "outputId": "0bb8659c-fd87-48e4-f59a-283bf826db51"
      },
      "execution_count": 11,
      "outputs": [
        {
          "output_type": "display_data",
          "data": {
            "text/plain": [
              "<Figure size 432x288 with 6 Axes>"
            ],
            "image/png": "[encoded data removed]"
          },
          "metadata": {
            "needs_background": "light"
          }
        }
      ]
    }
  ]
}